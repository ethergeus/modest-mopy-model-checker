{
 "cells": [
  {
   "cell_type": "markdown",
   "source": [
    "### Simple models"
   ],
   "metadata": {
    "collapsed": false
   }
  },
  {
   "cell_type": "code",
   "execution_count": null,
   "outputs": [],
   "source": [
    "!./model-checker.py modelPy/single-transition.py --deep-q-learning -v --plot --alpha 1e-4 -k 1000 --properties R1 --note ordinal"
   ],
   "metadata": {
    "collapsed": false
   }
  },
  {
   "cell_type": "code",
   "execution_count": null,
   "outputs": [],
   "source": [
    "!./model-checker.py modelPy/single-transition.py --deep-q-learning -v --plot --alpha 1e-4 -k 1000 --properties R1 --onehot-all --note onehot"
   ],
   "metadata": {
    "collapsed": false
   }
  },
  {
   "cell_type": "code",
   "execution_count": null,
   "outputs": [],
   "source": [
    "!./model-checker.py modelPy/success-fail.py --deep-q-learning -v --plot --alpha 1e-4 -k 4000 --properties R1 --note ordinal"
   ],
   "metadata": {
    "collapsed": false
   }
  },
  {
   "cell_type": "code",
   "execution_count": null,
   "outputs": [],
   "source": [
    "!./model-checker.py modelPy/success-fail.py --deep-q-learning -v --plot --alpha 1e-4 -k 4000 --properties R1 --onehot-all --note onehot"
   ],
   "metadata": {
    "collapsed": false
   }
  },
  {
   "cell_type": "code",
   "execution_count": null,
   "outputs": [],
   "source": [
    "!./model-checker.py modelPy/safe-risk.py --deep-q-learning -v --plot --alpha 1e-4 -k 4000 --properties R1 --note ordinal"
   ],
   "metadata": {
    "collapsed": false
   }
  },
  {
   "cell_type": "code",
   "execution_count": null,
   "outputs": [],
   "source": [
    "!./model-checker.py modelPy/safe-risk.py --deep-q-learning -v --plot --alpha 1e-4 -k 4000 --properties R1 --onehot-all --note onehot"
   ],
   "metadata": {
    "collapsed": false
   }
  },
  {
   "cell_type": "code",
   "execution_count": null,
   "outputs": [],
   "source": [
    "!./model-checker.py modelPy/safe-risk.py --deep-q-learning -v --plot --alpha 1e-4 -k 4000 --properties R2 --note ordinal"
   ],
   "metadata": {
    "collapsed": false
   }
  },
  {
   "cell_type": "code",
   "execution_count": null,
   "outputs": [],
   "source": [
    "!./model-checker.py modelPy/safe-risk.py --deep-q-learning -v --plot --alpha 1e-4 -k 4000 --properties R2 --onehot-all --note onehot"
   ],
   "metadata": {
    "collapsed": false
   }
  },
  {
   "cell_type": "markdown",
   "source": [
    "### Energy-aware Job Scheduling"
   ],
   "metadata": {
    "collapsed": false
   }
  },
  {
   "cell_type": "code",
   "execution_count": null,
   "outputs": [],
   "source": [
    "!./model-checker.py modelPy/eajs.py --deep-q-learning -v --plot --alpha 1e-4 -k 500 --properties ExpUtil --onehot-all --batch-size 512 --note onehot-batch512"
   ],
   "metadata": {
    "collapsed": false
   }
  },
  {
   "cell_type": "code",
   "execution_count": null,
   "outputs": [],
   "source": [
    "!./model-checker.py modelPy/eajs.py --deep-q-learning -v --plot --alpha 1e-4 -k 500 --properties ExpUtil --onehot-all --batch-size 512 --double-q --note onehot-double-batch512"
   ],
   "metadata": {
    "collapsed": false
   }
  },
  {
   "cell_type": "code",
   "execution_count": null,
   "outputs": [],
   "source": [
    "!./model-checker.py modelPy/eajs.py --deep-q-learning -v --plot --alpha 1e-4 -k 500 --properties ExpUtil --batch-size 512 --note ordinal-batch512"
   ],
   "metadata": {
    "collapsed": false
   }
  },
  {
   "cell_type": "code",
   "execution_count": null,
   "outputs": [],
   "source": [
    "!./model-checker.py modelPy/eajs.py --deep-q-learning -v --plot --alpha 1e-4 -k 500 --properties ExpUtil --batch-size 512 --double-q --note ordinal-double-batch512"
   ],
   "metadata": {
    "collapsed": false
   }
  },
  {
   "cell_type": "markdown",
   "source": [
    "### Consensus"
   ],
   "metadata": {
    "collapsed": false
   }
  },
  {
   "cell_type": "code",
   "execution_count": null,
   "outputs": [],
   "source": [
    "!./model-checker.py modelPy/consensus.2.py --deep-q-learning -v --plot --alpha 1e-4 -k 500 --properties steps_max --onehot-all --batch-size 512 --note onehot-batch512"
   ],
   "metadata": {
    "collapsed": false
   }
  },
  {
   "cell_type": "code",
   "execution_count": null,
   "outputs": [],
   "source": [
    "!./model-checker.py modelPy/consensus.2.py --deep-q-learning -v --plot --alpha 1e-4 -k 500 --properties steps_max --onehot-all --batch-size 512 --double-q --note onehot-double-batch512"
   ],
   "metadata": {
    "collapsed": false
   }
  },
  {
   "cell_type": "code",
   "execution_count": null,
   "outputs": [],
   "source": [
    "!./model-checker.py modelPy/consensus.2.py --deep-q-learning -v --plot --alpha 1e-4 -k 500 --properties steps_max --batch-size 512 --note ordinal-batch512"
   ],
   "metadata": {
    "collapsed": false
   }
  },
  {
   "cell_type": "code",
   "execution_count": null,
   "outputs": [],
   "source": [
    "!./model-checker.py modelPy/consensus.2.py --deep-q-learning -v --plot --alpha 1e-4 -k 500 --properties steps_max --batch-size 512 --double-q --note ordinal-double-batch512"
   ],
   "metadata": {
    "collapsed": false
   }
  }
 ],
 "metadata": {
  "kernelspec": {
   "display_name": "Python 3",
   "language": "python",
   "name": "python3"
  },
  "language_info": {
   "codemirror_mode": {
    "name": "ipython",
    "version": 2
   },
   "file_extension": ".py",
   "mimetype": "text/x-python",
   "name": "python",
   "nbconvert_exporter": "python",
   "pygments_lexer": "ipython2",
   "version": "2.7.6"
  }
 },
 "nbformat": 4,
 "nbformat_minor": 0
}
