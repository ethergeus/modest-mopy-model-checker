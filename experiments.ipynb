{
 "cells": [
  {
   "cell_type": "code",
   "execution_count": null,
   "metadata": {},
   "outputs": [],
   "source": [
    "import os\n",
    "\n",
    "for d in {'data', 'plot', 'modelPy'}:\n",
    "    if not os.path.exists(d):\n",
    "        os.makedirs(d)\n",
    "\n",
    "# For the 3-layered shallow network\n",
    "fc_dims = \"128\"\n",
    "alpha = 1e-3\n",
    "note_appendix = \"-fc128\"\n",
    "\n",
    "# For the 5-layered deep network\n",
    "#fc_dims = \"512,512,512\"\n",
    "#alpha = 1e-4\n",
    "#note_appendix = \"\""
   ]
  },
  {
   "cell_type": "markdown",
   "metadata": {
    "collapsed": false
   },
   "source": [
    "### Simple models"
   ]
  },
  {
   "cell_type": "code",
   "execution_count": null,
   "metadata": {},
   "outputs": [],
   "source": [
    "!modest export-to-python modelModest/single-transition.modest --output modelPy/single-transition.py"
   ]
  },
  {
   "cell_type": "code",
   "execution_count": null,
   "metadata": {
    "collapsed": false
   },
   "outputs": [],
   "source": [
    "!python model-checker.py modelPy/single-transition.py --deep-q-learning -v --plot --alpha={alpha} -k 1000 --fc-dims={fc_dims} --properties R1 --note ordinal{note_appendix}\n",
    "!python model-checker.py modelPy/single-transition.py --deep-q-learning -v --plot --alpha={alpha} -k 1000 --fc-dims={fc_dims} --properties R1 --onehot-all --note onehot{note_appendix}\n",
    "!python model-checker.py modelPy/single-transition.py --deep-q-learning -v --plot --alpha={alpha} -k 1000 --fc-dims={fc_dims} --properties R1 --table --note ordinal-table{note_appendix}\n",
    "!python model-checker.py modelPy/single-transition.py --deep-q-learning -v --plot --alpha={alpha} -k 1000 --fc-dims={fc_dims} --properties R1 --table --onehot-all --note onehot-table{note_appendix}"
   ]
  },
  {
   "cell_type": "code",
   "execution_count": null,
   "metadata": {},
   "outputs": [],
   "source": [
    "!modest export-to-python modelModest/success-fail.modest --output modelPy/success-fail.py"
   ]
  },
  {
   "cell_type": "code",
   "execution_count": null,
   "metadata": {
    "collapsed": false
   },
   "outputs": [],
   "source": [
    "!python model-checker.py modelPy/success-fail.py --deep-q-learning -v --plot --alpha={alpha} -k 4000 --fc-dims={fc_dims} --properties R1 --note ordinal{note_appendix}\n",
    "!python model-checker.py modelPy/success-fail.py --deep-q-learning -v --plot --alpha={alpha} -k 4000 --fc-dims={fc_dims} --properties R1 --onehot-all --note onehot{note_appendix}\n",
    "!python model-checker.py modelPy/success-fail.py --deep-q-learning -v --plot --alpha={alpha} -k 4000 --fc-dims={fc_dims} --properties R1 --table --note ordinal-table{note_appendix}\n",
    "!python model-checker.py modelPy/success-fail.py --deep-q-learning -v --plot --alpha={alpha} -k 4000 --fc-dims={fc_dims} --properties R1 --table --onehot-all --note onehot-table{note_appendix}"
   ]
  },
  {
   "cell_type": "code",
   "execution_count": null,
   "metadata": {},
   "outputs": [],
   "source": [
    "!modest export-to-python modelModest/safe-risk.modest --output modelPy/safe-risk.py"
   ]
  },
  {
   "cell_type": "code",
   "execution_count": null,
   "metadata": {
    "collapsed": false
   },
   "outputs": [],
   "source": [
    "!python model-checker.py modelPy/safe-risk.py --deep-q-learning -v --plot --alpha={alpha} -k 1000 --fc-dims={fc_dims} --properties R1 --note ordinal{note_appendix}\n",
    "!python model-checker.py modelPy/safe-risk.py --deep-q-learning -v --plot --alpha={alpha} -k 1000 --fc-dims={fc_dims} --properties R1 --onehot-all --note onehot{note_appendix}\n",
    "!python model-checker.py modelPy/safe-risk.py --deep-q-learning -v --plot --alpha={alpha} -k 1000 --fc-dims={fc_dims} --properties R1 --table --note ordinal-table{note_appendix}\n",
    "!python model-checker.py modelPy/safe-risk.py --deep-q-learning -v --plot --alpha={alpha} -k 1000 --fc-dims={fc_dims} --properties R1 --table --onehot-all --note onehot-table{note_appendix}"
   ]
  },
  {
   "cell_type": "code",
   "execution_count": null,
   "metadata": {
    "collapsed": false
   },
   "outputs": [],
   "source": [
    "!python model-checker.py modelPy/safe-risk.py --deep-q-learning -v --plot --alpha={alpha} -k 1000 --fc-dims={fc_dims} --properties R2 --note ordinal{note_appendix}\n",
    "!python model-checker.py modelPy/safe-risk.py --deep-q-learning -v --plot --alpha={alpha} -k 1000 --fc-dims={fc_dims} --properties R2 --onehot-all --note onehot{note_appendix}\n",
    "!python model-checker.py modelPy/safe-risk.py --deep-q-learning -v --plot --alpha={alpha} -k 1000 --fc-dims={fc_dims} --properties R2 --table --note ordinal-table{note_appendix}\n",
    "!python model-checker.py modelPy/safe-risk.py --deep-q-learning -v --plot --alpha={alpha} -k 1000 --fc-dims={fc_dims} --properties R2 --table --onehot-all --note onehot-table{note_appendix}"
   ]
  },
  {
   "cell_type": "markdown",
   "metadata": {
    "collapsed": false
   },
   "source": [
    "### Energy-aware Job Scheduling"
   ]
  },
  {
   "cell_type": "markdown",
   "metadata": {},
   "source": [
    "#### N = 2"
   ]
  },
  {
   "cell_type": "code",
   "execution_count": null,
   "metadata": {},
   "outputs": [],
   "source": [
    "!modest export-to-python modelJani/eajs.2.jani --output modelPy/eajs.2.py -E \"energy_capacity = 100, B = 5\""
   ]
  },
  {
   "cell_type": "code",
   "execution_count": null,
   "metadata": {
    "collapsed": false
   },
   "outputs": [],
   "source": [
    "!python model-checker.py modelPy/eajs.2.py --deep-q-learning -v --plot --alpha={alpha} -k 500 --fc-dims={fc_dims} --properties ExpUtil --onehot-all --batch-size 128 --note onehot{note_appendix}"
   ]
  },
  {
   "cell_type": "code",
   "execution_count": null,
   "metadata": {},
   "outputs": [],
   "source": [
    "!python model-checker.py modelPy/eajs.2.py --deep-q-learning -v --plot --alpha={alpha} -k 500 --fc-dims={fc_dims} --properties ExpUtil --onehot-all --table --batch-size 128 --note onehot-table{note_appendix}"
   ]
  },
  {
   "cell_type": "code",
   "execution_count": null,
   "metadata": {
    "collapsed": false
   },
   "outputs": [],
   "source": [
    "!python model-checker.py modelPy/eajs.2.py --deep-q-learning -v --plot --alpha={alpha} -k 500 --fc-dims={fc_dims} --properties ExpUtil --onehot-all --batch-size 128 --double-q --note onehot-double{note_appendix}"
   ]
  },
  {
   "cell_type": "code",
   "execution_count": null,
   "metadata": {},
   "outputs": [],
   "source": [
    "!python model-checker.py modelPy/eajs.2.py --deep-q-learning -v --plot --alpha={alpha} -k 500 --fc-dims={fc_dims} --properties ExpUtil --onehot-all --table --batch-size 128 --double-q --note onehot-double-table{note_appendix}"
   ]
  },
  {
   "cell_type": "code",
   "execution_count": null,
   "metadata": {
    "collapsed": false
   },
   "outputs": [],
   "source": [
    "!python model-checker.py modelPy/eajs.2.py --deep-q-learning -v --plot --alpha={alpha} -k 500 --fc-dims={fc_dims} --properties ExpUtil --batch-size 128 --note ordinal{note_appendix}"
   ]
  },
  {
   "cell_type": "code",
   "execution_count": null,
   "metadata": {},
   "outputs": [],
   "source": [
    "!python model-checker.py modelPy/eajs.2.py --deep-q-learning -v --plot --alpha={alpha} -k 500 --fc-dims={fc_dims} --properties ExpUtil --table --batch-size 128 --note ordinal-table{note_appendix}"
   ]
  },
  {
   "cell_type": "code",
   "execution_count": null,
   "metadata": {
    "collapsed": false
   },
   "outputs": [],
   "source": [
    "!python model-checker.py modelPy/eajs.2.py --deep-q-learning -v --plot --alpha={alpha} -k 500 --properties ExpUtil --batch-size 128 --fc-dims={fc_dims} --double-q --note ordinal-double{note_appendix}"
   ]
  },
  {
   "cell_type": "code",
   "execution_count": null,
   "metadata": {},
   "outputs": [],
   "source": [
    "!python model-checker.py modelPy/eajs.2.py --deep-q-learning -v --plot --alpha={alpha} -k 500 --fc-dims={fc_dims} --properties ExpUtil --table --batch-size 128 --double-q --note ordinal-double-table{note_appendix}"
   ]
  },
  {
   "cell_type": "markdown",
   "metadata": {},
   "source": [
    "#### N = 4"
   ]
  },
  {
   "cell_type": "code",
   "execution_count": null,
   "metadata": {},
   "outputs": [],
   "source": [
    "!modest export-to-python modelJani/eajs.4.jani --output modelPy/eajs.4.py -E \"energy_capacity = 200, B = 9\""
   ]
  },
  {
   "cell_type": "code",
   "execution_count": null,
   "metadata": {},
   "outputs": [],
   "source": [
    "!python model-checker.py modelPy/eajs.4.py --deep-q-learning -v --plot --alpha={alpha} -k 500 --fc-dims={fc_dims} --properties ExpUtil --onehot-all --batch-size 128 --note onehot{note_appendix}"
   ]
  },
  {
   "cell_type": "code",
   "execution_count": null,
   "metadata": {},
   "outputs": [],
   "source": [
    "!python model-checker.py modelPy/eajs.4.py --deep-q-learning -v --plot --alpha={alpha} -k 500 --fc-dims={fc_dims} --properties ExpUtil --onehot-all --batch-size 128 --double-q --note onehot-double{note_appendix}"
   ]
  },
  {
   "cell_type": "code",
   "execution_count": null,
   "metadata": {},
   "outputs": [],
   "source": [
    "!python model-checker.py modelPy/eajs.4.py --deep-q-learning -v --plot --alpha={alpha} -k 500 --fc-dims={fc_dims} --properties ExpUtil --batch-size 128 --note ordinal{note_appendix}"
   ]
  },
  {
   "cell_type": "code",
   "execution_count": null,
   "metadata": {},
   "outputs": [],
   "source": [
    "!python model-checker.py modelPy/eajs.4.py --deep-q-learning -v --plot --alpha={alpha} -k 500 --fc-dims={fc_dims} --properties ExpUtil --batch-size 128 --double-q --note ordinal-double{note_appendix}"
   ]
  },
  {
   "cell_type": "markdown",
   "metadata": {
    "collapsed": false
   },
   "source": [
    "### Consensus"
   ]
  },
  {
   "cell_type": "code",
   "execution_count": null,
   "metadata": {},
   "outputs": [],
   "source": [
    "!modest export-to-python modelJani/consensus.2.jani --output modelPy/consensus.2.py -E \"K = 2\""
   ]
  },
  {
   "cell_type": "code",
   "execution_count": null,
   "metadata": {
    "collapsed": false
   },
   "outputs": [],
   "source": [
    "!python model-checker.py modelPy/consensus.2.py --deep-q-learning -v --plot --alpha={alpha} -k 500 --fc-dims={fc_dims} --properties steps_max --onehot-all --batch-size 128 --note onehot{note_appendix}"
   ]
  },
  {
   "cell_type": "code",
   "execution_count": null,
   "metadata": {},
   "outputs": [],
   "source": [
    "!python model-checker.py modelPy/consensus.2.py --deep-q-learning -v --plot --alpha={alpha} -k 500 --fc-dims={fc_dims} --properties steps_max --onehot-all --table --batch-size 128 --note onehot-table{note_appendix}"
   ]
  },
  {
   "cell_type": "code",
   "execution_count": null,
   "metadata": {
    "collapsed": false
   },
   "outputs": [],
   "source": [
    "!python model-checker.py modelPy/consensus.2.py --deep-q-learning -v --plot --alpha={alpha} -k 500 --fc-dims={fc_dims} --properties steps_max --onehot-all --batch-size 128 --double-q --note onehot-double{note_appendix}"
   ]
  },
  {
   "cell_type": "code",
   "execution_count": null,
   "metadata": {},
   "outputs": [],
   "source": [
    "!python model-checker.py modelPy/consensus.2.py --deep-q-learning -v --plot --alpha={alpha} -k 500 --fc-dims={fc_dims} --properties steps_max --onehot-all --table --batch-size 128 --double-q --note onehot-double-table{note_appendix}"
   ]
  },
  {
   "cell_type": "code",
   "execution_count": null,
   "metadata": {
    "collapsed": false
   },
   "outputs": [],
   "source": [
    "!python model-checker.py modelPy/consensus.2.py --deep-q-learning -v --plot --alpha={alpha} -k 500 --fc-dims={fc_dims} --properties steps_max --batch-size 128 --note ordinal{note_appendix}"
   ]
  },
  {
   "cell_type": "code",
   "execution_count": null,
   "metadata": {},
   "outputs": [],
   "source": [
    "!python model-checker.py modelPy/consensus.2.py --deep-q-learning -v --plot --alpha={alpha} -k 500 --fc-dims={fc_dims} --properties steps_max --table --batch-size 128 --note ordinal-table{note_appendix}"
   ]
  },
  {
   "cell_type": "code",
   "execution_count": null,
   "metadata": {
    "collapsed": false
   },
   "outputs": [],
   "source": [
    "!python model-checker.py modelPy/consensus.2.py --deep-q-learning -v --plot --alpha={alpha} -k 500 --fc-dims={fc_dims} --properties steps_max --batch-size 128 --double-q --note ordinal-double{note_appendix}"
   ]
  },
  {
   "cell_type": "code",
   "execution_count": null,
   "metadata": {},
   "outputs": [],
   "source": [
    "!python model-checker.py modelPy/consensus.2.py --deep-q-learning -v --plot --alpha={alpha} -k 500 --fc-dims={fc_dims} --properties steps_max --table --batch-size 128 --double-q --note ordinal-double-table{note_appendix}"
   ]
  }
 ],
 "metadata": {
  "kernelspec": {
   "display_name": "Python 3",
   "language": "python",
   "name": "python3"
  },
  "language_info": {
   "codemirror_mode": {
    "name": "ipython",
    "version": 3
   },
   "file_extension": ".py",
   "mimetype": "text/x-python",
   "name": "python",
   "nbconvert_exporter": "python",
   "pygments_lexer": "ipython3",
   "version": "3.11.7"
  }
 },
 "nbformat": 4,
 "nbformat_minor": 0
}
