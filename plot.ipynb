{
 "cells": [
  {
   "cell_type": "markdown",
   "metadata": {},
   "source": [
    "The following notebook combines the results of all experiments from the `experiments.ipynb` notebook into plots used in the report. The plots are saved in the `report/plot` directory. Running all experiments takes a long time, therefore this notebook can be run with the results from the `data` directory instead of running all experiments directly."
   ]
  },
  {
   "cell_type": "code",
   "execution_count": null,
   "metadata": {},
   "outputs": [],
   "source": [
    "import os\n",
    "import matplotlib.pyplot as plt\n",
    "import pickle\n",
    "\n",
    "d = os.path.join(\"report\", \"plot\")\n",
    "if not os.path.exists(d):\n",
    "    os.makedirs(d)\n",
    "\n",
    "# For the 3-layered shallow network\n",
    "note_appendix = \"-fc128\"\n",
    "title_appendix = \", shallow 3-layered network\"\n",
    "    \n",
    "# For the 5-layered deep network\n",
    "#note_appendix = \"\"\n",
    "#title_appendix = \", deep 5-layered network\"\n",
    "\n",
    "label = {\n",
    "    'q': 'Q-value',\n",
    "    'loss': 'loss'\n",
    "}\n",
    "yaxis = {\n",
    "    'q': 'Average reward',\n",
    "    'loss': 'Average loss'\n",
    "}"
   ]
  },
  {
   "cell_type": "markdown",
   "metadata": {},
   "source": [
    "# Simple models"
   ]
  },
  {
   "cell_type": "markdown",
   "metadata": {},
   "source": [
    "## Single transition MDP"
   ]
  },
  {
   "cell_type": "code",
   "execution_count": null,
   "metadata": {},
   "outputs": [],
   "source": [
    "onehot = pickle.load(open(os.path.join(\"data\", f\"single-transition-R1-onehot{note_appendix}-q.pickle\"), \"rb\"))\n",
    "ordinal = pickle.load(open(os.path.join(\"data\", f\"single-transition-R1-ordinal{note_appendix}-q.pickle\"), \"rb\"))\n",
    "onehot_table = pickle.load(open(os.path.join(\"data\", f\"single-transition-R1-onehot-table{note_appendix}-q.pickle\"), \"rb\"))\n",
    "ordinal_table = pickle.load(open(os.path.join(\"data\", f\"single-transition-R1-ordinal-table{note_appendix}-q.pickle\"), \"rb\"))\n",
    "\n",
    "plt.title(f\"Single transition MDP Q-value, property R1{title_appendix}\")\n",
    "plt.plot(*onehot[0].get_data(), '.', label=\"One-hot encoding\")\n",
    "plt.plot(*ordinal[0].get_data(), '.', label=\"Ordinal encoding\")\n",
    "plt.plot(*onehot_table[0].get_data(), '.', label=\"One-hot encoding (Q-table)\")\n",
    "plt.plot(*ordinal_table[0].get_data(), '.', label=\"Ordinal encoding (Q-table)\")\n",
    "plt.plot([0, 1000], [8, 8], label=\"Modest solution = 8\")\n",
    "plt.xlabel(\"Number of episodes\")\n",
    "plt.ylabel(\"Average reward\")\n",
    "plt.xlim(64, 300)\n",
    "plt.legend()\n",
    "plt.savefig(os.path.join(\"report\", \"plot\", f\"single-transition-R1{note_appendix}-q.pdf\"))"
   ]
  },
  {
   "cell_type": "code",
   "execution_count": null,
   "metadata": {},
   "outputs": [],
   "source": [
    "onehot = pickle.load(open(os.path.join(\"data\", f\"single-transition-R1-onehot{note_appendix}-loss.pickle\"), \"rb\"))\n",
    "ordinal = pickle.load(open(os.path.join(\"data\", f\"single-transition-R1-ordinal{note_appendix}-loss.pickle\"), \"rb\"))\n",
    "onehot_table = pickle.load(open(os.path.join(\"data\", f\"single-transition-R1-onehot-table{note_appendix}-loss.pickle\"), \"rb\"))\n",
    "ordinal_table = pickle.load(open(os.path.join(\"data\", f\"single-transition-R1-ordinal-table{note_appendix}-loss.pickle\"), \"rb\"))\n",
    "\n",
    "plt.title(f\"Single transition MDP loss, property R1{title_appendix}\")\n",
    "plt.plot(*onehot[0].get_data(), '.', label=\"One-hot encoding\")\n",
    "plt.plot(*ordinal[0].get_data(), '.', label=\"Ordinal encoding\")\n",
    "plt.plot(*onehot_table[0].get_data(), '.', label=\"One-hot encoding (Q-table)\")\n",
    "plt.plot(*ordinal_table[0].get_data(), '.', label=\"Ordinal encoding (Q-table)\")\n",
    "plt.xlabel(\"Number of episodes\")\n",
    "plt.ylabel(\"Average loss\")\n",
    "plt.xlim(64, 300)\n",
    "plt.legend()\n",
    "plt.savefig(os.path.join(\"report\", \"plot\", f\"single-transition-R1{note_appendix}-loss.pdf\"))"
   ]
  },
  {
   "cell_type": "markdown",
   "metadata": {},
   "source": [
    "## Success fail MDP"
   ]
  },
  {
   "cell_type": "code",
   "execution_count": null,
   "metadata": {},
   "outputs": [],
   "source": [
    "onehot = pickle.load(open(os.path.join(\"data\", f\"success-fail-R1-onehot{note_appendix}-q.pickle\"), \"rb\"))\n",
    "ordinal = pickle.load(open(os.path.join(\"data\", f\"success-fail-R1-ordinal{note_appendix}-q.pickle\"), \"rb\"))\n",
    "onehot_table = pickle.load(open(os.path.join(\"data\", f\"success-fail-R1-onehot-table{note_appendix}-q.pickle\"), \"rb\"))\n",
    "ordinal_table = pickle.load(open(os.path.join(\"data\", f\"success-fail-R1-ordinal-table{note_appendix}-q.pickle\"), \"rb\"))\n",
    "\n",
    "plt.title(f\"Success fail MDP Q-value, property R1{title_appendix}\")\n",
    "plt.plot(*onehot[0].get_data(), '.', label=\"One-hot encoding\")\n",
    "plt.plot(*ordinal[0].get_data(), '.', label=\"Ordinal encoding\")\n",
    "plt.plot(*onehot_table[0].get_data(), '.', label=\"One-hot encoding (Q-table)\")\n",
    "plt.plot(*ordinal_table[0].get_data(), '.', label=\"Ordinal encoding (Q-table)\")\n",
    "plt.plot([0, 1000], [4, 4], label=\"Modest solution = 4\")\n",
    "plt.xlabel(\"Number of episodes\")\n",
    "plt.ylabel(\"Average reward\")\n",
    "plt.xlim(64, 600)\n",
    "plt.legend()\n",
    "plt.savefig(os.path.join(\"report\", \"plot\", f\"success-fail-R1{note_appendix}-q.pdf\"))"
   ]
  },
  {
   "cell_type": "code",
   "execution_count": null,
   "metadata": {},
   "outputs": [],
   "source": [
    "onehot = pickle.load(open(os.path.join(\"data\", f\"success-fail-R1-onehot{note_appendix}-loss.pickle\"), \"rb\"))\n",
    "ordinal = pickle.load(open(os.path.join(\"data\", f\"success-fail-R1-ordinal{note_appendix}-loss.pickle\"), \"rb\"))\n",
    "onehot_table = pickle.load(open(os.path.join(\"data\", f\"success-fail-R1-onehot-table{note_appendix}-loss.pickle\"), \"rb\"))\n",
    "ordinal_table = pickle.load(open(os.path.join(\"data\", f\"success-fail-R1-ordinal-table{note_appendix}-loss.pickle\"), \"rb\"))\n",
    "\n",
    "plt.title(f\"Success fail MDP loss, property R1{title_appendix}\")\n",
    "plt.plot(*onehot[0].get_data(), '.', label=\"One-hot encoding\")\n",
    "plt.plot(*ordinal[0].get_data(), '.', label=\"Ordinal encoding\")\n",
    "plt.plot(*onehot_table[0].get_data(), '.', label=\"One-hot encoding (Q-table)\")\n",
    "plt.plot(*ordinal_table[0].get_data(), '.', label=\"Ordinal encoding (Q-table)\")\n",
    "plt.xlabel(\"Number of episodes\")\n",
    "plt.ylabel(\"Average loss\")\n",
    "plt.xlim(64, 600)\n",
    "plt.legend()\n",
    "plt.savefig(os.path.join(\"report\", \"plot\", f\"success-fail-R1{note_appendix}-loss.pdf\"))"
   ]
  },
  {
   "cell_type": "markdown",
   "metadata": {},
   "source": [
    "## Safe risk MDP"
   ]
  },
  {
   "cell_type": "code",
   "execution_count": null,
   "metadata": {},
   "outputs": [],
   "source": [
    "onehot = pickle.load(open(os.path.join(\"data\", f\"safe-risk-R1-onehot{note_appendix}-q.pickle\"), \"rb\"))\n",
    "ordinal = pickle.load(open(os.path.join(\"data\", f\"safe-risk-R1-ordinal{note_appendix}-q.pickle\"), \"rb\"))\n",
    "onehot_table = pickle.load(open(os.path.join(\"data\", f\"safe-risk-R1-onehot-table{note_appendix}-q.pickle\"), \"rb\"))\n",
    "ordinal_table = pickle.load(open(os.path.join(\"data\", f\"safe-risk-R1-ordinal-table{note_appendix}-q.pickle\"), \"rb\"))\n",
    "\n",
    "plt.title(f\"Safe risk MDP Q-value, property R1{title_appendix}\")\n",
    "plt.plot(*onehot[0].get_data(), '.', label=\"One-hot encoding\")\n",
    "plt.plot(*ordinal[0].get_data(), '.', label=\"Ordinal encoding\")\n",
    "plt.plot(*onehot_table[0].get_data(), '.', label=\"One-hot encoding (Q-table)\")\n",
    "plt.plot(*ordinal_table[0].get_data(), '.', label=\"Ordinal encoding (Q-table)\")\n",
    "plt.plot([0, 1000], [4, 4], label=\"Modest solution = 4\")\n",
    "plt.xlabel(\"Number of episodes\")\n",
    "plt.ylabel(\"Average reward\")\n",
    "plt.xlim(64, 600)\n",
    "plt.legend()\n",
    "plt.savefig(os.path.join(\"report\", \"plot\", f\"safe-risk-R1{note_appendix}-q.pdf\"))"
   ]
  },
  {
   "cell_type": "code",
   "execution_count": null,
   "metadata": {},
   "outputs": [],
   "source": [
    "onehot = pickle.load(open(os.path.join(\"data\", f\"safe-risk-R1-onehot{note_appendix}-loss.pickle\"), \"rb\"))\n",
    "ordinal = pickle.load(open(os.path.join(\"data\", f\"safe-risk-R1-ordinal{note_appendix}-loss.pickle\"), \"rb\"))\n",
    "onehot_table = pickle.load(open(os.path.join(\"data\", f\"safe-risk-R1-onehot-table{note_appendix}-loss.pickle\"), \"rb\"))\n",
    "ordinal_table = pickle.load(open(os.path.join(\"data\", f\"safe-risk-R1-ordinal-table{note_appendix}-loss.pickle\"), \"rb\"))\n",
    "\n",
    "plt.title(f\"Safe risk MDP loss, property R1{title_appendix}\")\n",
    "plt.plot(*onehot[0].get_data(), '.', label=\"One-hot encoding\")\n",
    "plt.plot(*ordinal[0].get_data(), '.', label=\"Ordinal encoding\")\n",
    "plt.plot(*onehot_table[0].get_data(), '.', label=\"One-hot encoding (Q-table)\")\n",
    "plt.plot(*ordinal_table[0].get_data(), '.', label=\"Ordinal encoding (Q-table)\")\n",
    "plt.xlabel(\"Number of episodes\")\n",
    "plt.ylabel(\"Average loss\")\n",
    "plt.xlim(64, 600)\n",
    "plt.legend()\n",
    "plt.savefig(os.path.join(\"report\", \"plot\", f\"safe-risk-R1{note_appendix}-loss.pdf\"))"
   ]
  },
  {
   "cell_type": "code",
   "execution_count": null,
   "metadata": {},
   "outputs": [],
   "source": [
    "onehot = pickle.load(open(os.path.join(\"data\", f\"safe-risk-R2-onehot{note_appendix}-q.pickle\"), \"rb\"))\n",
    "ordinal = pickle.load(open(os.path.join(\"data\", f\"safe-risk-R2-ordinal{note_appendix}-q.pickle\"), \"rb\"))\n",
    "onehot_table = pickle.load(open(os.path.join(\"data\", f\"safe-risk-R2-onehot-table{note_appendix}-q.pickle\"), \"rb\"))\n",
    "ordinal_table = pickle.load(open(os.path.join(\"data\", f\"safe-risk-R2-ordinal-table{note_appendix}-q.pickle\"), \"rb\"))\n",
    "\n",
    "plt.title(f\"Safe risk MDP Q-value, property R2{title_appendix}\")\n",
    "plt.plot(*onehot[0].get_data(), '.', label=\"One-hot encoding\")\n",
    "plt.plot(*ordinal[0].get_data(), '.', label=\"Ordinal encoding\")\n",
    "plt.plot(*onehot_table[0].get_data(), '.', label=\"One-hot encoding (Q-table)\")\n",
    "plt.plot(*ordinal_table[0].get_data(), '.', label=\"Ordinal encoding (Q-table)\")\n",
    "plt.plot([0, 1000], [1.8, 1.8], label=\"Modest solution = 1.8\")\n",
    "plt.xlabel(\"Number of episodes\")\n",
    "plt.ylabel(\"Average reward\")\n",
    "plt.xlim(64, 600)\n",
    "plt.legend()\n",
    "plt.savefig(os.path.join(\"report\", \"plot\", f\"safe-risk-R2{note_appendix}-q.pdf\"))"
   ]
  },
  {
   "cell_type": "code",
   "execution_count": null,
   "metadata": {},
   "outputs": [],
   "source": [
    "onehot = pickle.load(open(os.path.join(\"data\", f\"safe-risk-R2-onehot{note_appendix}-loss.pickle\"), \"rb\"))\n",
    "ordinal = pickle.load(open(os.path.join(\"data\", f\"safe-risk-R2-ordinal{note_appendix}-loss.pickle\"), \"rb\"))\n",
    "onehot_table = pickle.load(open(os.path.join(\"data\", f\"safe-risk-R2-onehot-table{note_appendix}-loss.pickle\"), \"rb\"))\n",
    "ordinal_table = pickle.load(open(os.path.join(\"data\", f\"safe-risk-R2-ordinal-table{note_appendix}-loss.pickle\"), \"rb\"))\n",
    "\n",
    "plt.title(f\"Safe risk MDP loss, property R2{title_appendix}\")\n",
    "plt.plot(*onehot[0].get_data(), '.', label=\"One-hot encoding\")\n",
    "plt.plot(*ordinal[0].get_data(), '.', label=\"Ordinal encoding\")\n",
    "plt.plot(*onehot_table[0].get_data(), '.', label=\"One-hot encoding (Q-table)\")\n",
    "plt.plot(*ordinal_table[0].get_data(), '.', label=\"Ordinal encoding (Q-table)\")\n",
    "plt.xlabel(\"Number of episodes\")\n",
    "plt.ylabel(\"Average loss\")\n",
    "plt.xlim(64, 600)\n",
    "plt.legend()\n",
    "plt.savefig(os.path.join(\"report\", \"plot\", f\"safe-risk-R2{note_appendix}-loss.pdf\"))"
   ]
  },
  {
   "cell_type": "markdown",
   "metadata": {},
   "source": [
    "# QComp models"
   ]
  },
  {
   "cell_type": "markdown",
   "metadata": {},
   "source": [
    "## Energy-aware Job Scheduling (N = 2)"
   ]
  },
  {
   "cell_type": "code",
   "execution_count": null,
   "metadata": {},
   "outputs": [],
   "source": [
    "for plot in {'q', 'loss'}:\n",
    "    onehot = pickle.load(open(os.path.join(\"data\", f\"eajs.2-ExpUtil-onehot{note_appendix}-{plot}.pickle\"), \"rb\"))\n",
    "    ordinal = pickle.load(open(os.path.join(\"data\", f\"eajs.2-ExpUtil-ordinal{note_appendix}-{plot}.pickle\"), \"rb\"))\n",
    "    onehot_table = pickle.load(open(os.path.join(\"data\", f\"eajs.2-ExpUtil-onehot-table{note_appendix}-{plot}.pickle\"), \"rb\"))\n",
    "    ordinal_table = pickle.load(open(os.path.join(\"data\", f\"eajs.2-ExpUtil-ordinal-table{note_appendix}-{plot}.pickle\"), \"rb\"))\n",
    "    onehot_double = pickle.load(open(os.path.join(\"data\", f\"eajs.2-ExpUtil-onehot-double{note_appendix}-{plot}.pickle\"), \"rb\"))\n",
    "    ordinal_double = pickle.load(open(os.path.join(\"data\", f\"eajs.2-ExpUtil-ordinal-double{note_appendix}-{plot}.pickle\"), \"rb\"))\n",
    "    onehot_double_table = pickle.load(open(os.path.join(\"data\", f\"eajs.2-ExpUtil-onehot-double-table{note_appendix}-{plot}.pickle\"), \"rb\"))\n",
    "    ordinal_double_table = pickle.load(open(os.path.join(\"data\", f\"eajs.2-ExpUtil-ordinal-double-table{note_appendix}-{plot}.pickle\"), \"rb\"))\n",
    "\n",
    "    plt.figure(figsize=(10, 8))\n",
    "    plt.title(f\"Energy-aware Job Scheduling (N = 2) MDP {label[plot]}, property ExpUtil{title_appendix}\")\n",
    "    plt.plot(*onehot[0].get_data(), '.', label=\"One-hot encoding\")\n",
    "    plt.plot(*ordinal[0].get_data(), '.', label=\"Ordinal encoding\")\n",
    "    plt.plot(*onehot_table[0].get_data(), '.', label=\"One-hot encoding (Q-table)\")\n",
    "    plt.plot(*ordinal_table[0].get_data(), '.', label=\"Ordinal encoding (Q-table)\")\n",
    "    plt.plot(*onehot_double[0].get_data(), '.', label=\"One-hot encoding (Double Q-learning)\")\n",
    "    plt.plot(*ordinal_double[0].get_data(), '.', label=\"Ordinal encoding (Double Q-learning)\")\n",
    "    plt.plot(*onehot_double_table[0].get_data(), '.', label=\"One-hot encoding (Double Q-learning, Q-table)\")\n",
    "    plt.plot(*ordinal_double_table[0].get_data(), '.', label=\"Ordinal encoding (Double Q-learning, Q-table)\")\n",
    "    if plot == 'q':\n",
    "        plt.plot([0, 1000], [4.028, 4.028], label=\"Modest solution = 4.028\")\n",
    "    plt.xlabel(\"Number of episodes\")\n",
    "    plt.ylabel(yaxis[plot])\n",
    "    plt.xlim(0, 500)\n",
    "    plt.yscale(\"log\")\n",
    "    plt.legend()\n",
    "    plt.savefig(os.path.join(\"report\", \"plot\", f\"eajs.2-ExpUtil{note_appendix}-{plot}.pdf\"))"
   ]
  },
  {
   "cell_type": "markdown",
   "metadata": {},
   "source": [
    "## Energy-aware Job Scheduling (N = 4)"
   ]
  },
  {
   "cell_type": "code",
   "execution_count": null,
   "metadata": {},
   "outputs": [],
   "source": [
    "for plot in {'q', 'loss'}:\n",
    "    onehot = pickle.load(open(os.path.join(\"data\", f\"eajs.4-ExpUtil-onehot{note_appendix}-{plot}.pickle\"), \"rb\"))\n",
    "    ordinal = pickle.load(open(os.path.join(\"data\", f\"eajs.4-ExpUtil-ordinal{note_appendix}-{plot}.pickle\"), \"rb\"))\n",
    "    onehot_double = pickle.load(open(os.path.join(\"data\", f\"eajs.4-ExpUtil-onehot-double{note_appendix}-{plot}.pickle\"), \"rb\"))\n",
    "    ordinal_double = pickle.load(open(os.path.join(\"data\", f\"eajs.4-ExpUtil-ordinal-double{note_appendix}-{plot}.pickle\"), \"rb\"))\n",
    "\n",
    "    plt.figure(figsize=(10, 8))\n",
    "    plt.title(f\"Energy-aware Job Scheduling (N = 4) MDP {label[plot]}, property ExpUtil{title_appendix}\")\n",
    "    plt.plot(*onehot[0].get_data(), '.', label=\"One-hot encoding\")\n",
    "    plt.plot(*ordinal[0].get_data(), '.', label=\"Ordinal encoding\")\n",
    "    plt.plot(*onehot_double[0].get_data(), '.', label=\"One-hot encoding (Double Q-learning)\")\n",
    "    plt.plot(*ordinal_double[0].get_data(), '.', label=\"Ordinal encoding (Double Q-learning)\")\n",
    "    if plot == 'q':\n",
    "        plt.plot([0, 1000], [8.0176, 8.0176], label=\"Modest solution = 8.0176\")\n",
    "    plt.xlabel(\"Number of episodes\")\n",
    "    plt.ylabel(yaxis[plot])\n",
    "    plt.xlim(0, 500)\n",
    "    plt.yscale(\"log\")\n",
    "    plt.legend()\n",
    "    plt.savefig(os.path.join(\"report\", \"plot\", f\"eajs.4-ExpUtil{note_appendix}-{plot}.pdf\"))"
   ]
  },
  {
   "cell_type": "markdown",
   "metadata": {},
   "source": [
    "## Consensus (N = 2)"
   ]
  },
  {
   "cell_type": "code",
   "execution_count": null,
   "metadata": {},
   "outputs": [],
   "source": [
    "for plot in {'q', 'loss'}:\n",
    "    onehot = pickle.load(open(os.path.join(\"data\", f\"consensus.2-steps_max-onehot{note_appendix}-{plot}.pickle\"), \"rb\"))\n",
    "    ordinal = pickle.load(open(os.path.join(\"data\", f\"consensus.2-steps_max-ordinal{note_appendix}-{plot}.pickle\"), \"rb\"))\n",
    "    onehot_table = pickle.load(open(os.path.join(\"data\", f\"consensus.2-steps_max-onehot-table{note_appendix}-{plot}.pickle\"), \"rb\"))\n",
    "    ordinal_table = pickle.load(open(os.path.join(\"data\", f\"consensus.2-steps_max-ordinal-table{note_appendix}-{plot}.pickle\"), \"rb\"))\n",
    "    onehot_double = pickle.load(open(os.path.join(\"data\", f\"consensus.2-steps_max-onehot-double{note_appendix}-{plot}.pickle\"), \"rb\"))\n",
    "    ordinal_double = pickle.load(open(os.path.join(\"data\", f\"consensus.2-steps_max-ordinal-double{note_appendix}-{plot}.pickle\"), \"rb\"))\n",
    "    onehot_double_table = pickle.load(open(os.path.join(\"data\", f\"consensus.2-steps_max-onehot-double-table{note_appendix}-{plot}.pickle\"), \"rb\"))\n",
    "    ordinal_double_table = pickle.load(open(os.path.join(\"data\", f\"consensus.2-steps_max-ordinal-double-table{note_appendix}-{plot}.pickle\"), \"rb\"))\n",
    "\n",
    "    plt.figure(figsize=(10, 8))\n",
    "    plt.title(f\"Consensus (N = 2) MDP {label[plot]}, property steps_max{title_appendix}\")\n",
    "    plt.plot(*onehot[0].get_data(), '.', label=\"One-hot encoding\")\n",
    "    plt.plot(*ordinal[0].get_data(), '.', label=\"Ordinal encoding\")\n",
    "    plt.plot(*onehot_table[0].get_data(), '.', label=\"One-hot encoding (Q-table)\")\n",
    "    plt.plot(*ordinal_table[0].get_data(), '.', label=\"Ordinal encoding (Q-table)\")\n",
    "    plt.plot(*onehot_double[0].get_data(), '.', label=\"One-hot encoding (Double Q-learning)\")\n",
    "    plt.plot(*ordinal_double[0].get_data(), '.', label=\"Ordinal encoding (Double Q-learning)\")\n",
    "    plt.plot(*onehot_double_table[0].get_data(), '.', label=\"One-hot encoding (Double Q-learning, Q-table)\")\n",
    "    plt.plot(*ordinal_double_table[0].get_data(), '.', label=\"Ordinal encoding (Double Q-learning, Q-table)\")\n",
    "    if plot == 'q':\n",
    "        plt.plot([0, 1000], [75, 75], label=\"Modest solution = 75\")\n",
    "    plt.xlabel(\"Number of episodes\")\n",
    "    plt.ylabel(yaxis[plot])\n",
    "    plt.xlim(0, 500)\n",
    "    plt.yscale(\"log\")\n",
    "    plt.legend()\n",
    "    plt.savefig(os.path.join(\"report\", \"plot\", f\"consensus.2-steps_max{note_appendix}-{plot}.pdf\"))"
   ]
  }
 ],
 "metadata": {
  "kernelspec": {
   "display_name": "modest-dql",
   "language": "python",
   "name": "python3"
  },
  "language_info": {
   "codemirror_mode": {
    "name": "ipython",
    "version": 3
   },
   "file_extension": ".py",
   "mimetype": "text/x-python",
   "name": "python",
   "nbconvert_exporter": "python",
   "pygments_lexer": "ipython3",
   "version": "3.11.7"
  }
 },
 "nbformat": 4,
 "nbformat_minor": 2
}
